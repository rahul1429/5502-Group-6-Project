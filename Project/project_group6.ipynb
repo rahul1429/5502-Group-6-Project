{
 "cells": [
  {
   "cell_type": "markdown",
   "metadata": {},
   "source": [
    "##### Importing and Cleaning Data"
   ]
  },
  {
   "cell_type": "code",
   "execution_count": 5,
   "metadata": {},
   "outputs": [],
   "source": [
    "import pandas as pd\n",
    "from sklearn.ensemble import RandomForestRegressor\n",
    "from sklearn.model_selection import train_test_split\n",
    "from sklearn.metrics import mean_squared_error, r2_score\n",
    "import numpy as np\n",
    "# setting a random seed\n",
    "np.random.seed(42)\n",
    "\n",
    "# Data Import and Cleaning\n",
    "\n",
    "# Load the data\n",
    "data = pd.read_excel('3000_salary.xlsx')\n",
    "\n",
    "# Drop missing values\n",
    "data_clean = data.dropna()\n",
    "\n",
    "# Resample the data\n",
    "resampled_data = data_clean.groupby('SubTitle', group_keys=False).apply(lambda x: x.sample(max(len(x), 700), replace=True))\n",
    "\n",
    "# Convert 'SubTitle' and 'Location' to one-hot encoded variables\n",
    "resampled_data = pd.get_dummies(resampled_data, columns=['SubTitle', 'Location'])\n",
    "\n",
    "# Assuming 'Annual_salary' as the target variable and other columns as predictors\n",
    "# Make sure to exclude non-numeric and target variable columns\n",
    "X = resampled_data.drop(['Annual_salary', 'Title', 'Company', 'Salary'], axis=1)  # Adjust as needed\n",
    "y = resampled_data['Annual_salary']\n",
    "\n",
    "# Splitting the data into training and testing sets\n",
    "X_train, X_test, y_train, y_test = train_test_split(X, y, test_size=0.2, random_state=42)\n",
    "\n"
   ]
  },
  {
   "cell_type": "markdown",
   "metadata": {},
   "source": [
    "##### Model Building and Fine Tuning"
   ]
  },
  {
   "cell_type": "markdown",
   "metadata": {},
   "source": [
    "Model 1: `Linear Regression`"
   ]
  },
  {
   "cell_type": "code",
   "execution_count": 2,
   "metadata": {},
   "outputs": [
    {
     "name": "stdout",
     "output_type": "stream",
     "text": [
      "acc: 0.7345785567898016\n",
      "Mean Squared Error: 400614044.98636264\n",
      "Root Mean Squared Error: 20015.345237751026\n",
      "R-squared Score: 0.7345785567898016\n"
     ]
    },
    {
     "name": "stderr",
     "output_type": "stream",
     "text": [
      "c:\\Users\\kukud\\miniconda3\\envs\\DsOne\\Lib\\site-packages\\sklearn\\base.py:464: UserWarning: X does not have valid feature names, but LinearRegression was fitted with feature names\n",
      "  warnings.warn(\n"
     ]
    }
   ],
   "source": [
    "from sklearn.linear_model import LinearRegression\n",
    "\n",
    "np.random.seed(42)\n",
    "\n",
    "model2 = LinearRegression()\n",
    "# Fit the model\n",
    "model2.fit(X_train, y_train)\n",
    "\n",
    "# Predict on the test set\n",
    "y_pred = model2.predict(X_test)\n",
    "\n",
    "acc2 = model2.score(X_test.values,y_test.values)\n",
    "\n",
    "print(\"acc:\", acc2)\n",
    "\n",
    "# Calculate the mean squared error\n",
    "mse2 = mean_squared_error(y_test, y_pred)\n",
    "print(f\"Mean Squared Error: {mse2}\")\n",
    "\n",
    "# Calculate the Root Mean Squared Error\n",
    "rmse2 = np.sqrt(mse2)\n",
    "print(f\"Root Mean Squared Error: {rmse2}\")\n",
    "\n",
    "# Calculate the R-squared Score\n",
    "r2_2 = r2_score(y_test, y_pred)\n",
    "print(f\"R-squared Score: {r2_2}\")\n"
   ]
  },
  {
   "cell_type": "markdown",
   "metadata": {},
   "source": [
    "Model 2: `Random Forest`"
   ]
  },
  {
   "cell_type": "code",
   "execution_count": 4,
   "metadata": {},
   "outputs": [
    {
     "name": "stdout",
     "output_type": "stream",
     "text": [
      "acc: 0.9293315082650243\n",
      "Mean Squared Error: 108563684.31454435\n",
      "Root Mean Squared Error: 10419.389824483214\n",
      "R-squared Score: 0.9293315082650243\n"
     ]
    },
    {
     "name": "stderr",
     "output_type": "stream",
     "text": [
      "c:\\Users\\kukud\\miniconda3\\envs\\DsOne\\Lib\\site-packages\\sklearn\\base.py:464: UserWarning: X does not have valid feature names, but RandomForestRegressor was fitted with feature names\n",
      "  warnings.warn(\n"
     ]
    }
   ],
   "source": [
    "np.random.seed(42)\n",
    "# Create a Random Forest Regressor model\n",
    "model = RandomForestRegressor(random_state=0)\n",
    "\n",
    "# Fit the model\n",
    "model.fit(X_train, y_train)\n",
    "\n",
    "# Predict on the test set\n",
    "y_pred = model.predict(X_test)\n",
    "\n",
    "acc = model.score(X_test.values,y_test.values)\n",
    "print(\"acc:\",acc)\n",
    "\n",
    "# Calculate the mean squared error\n",
    "mse = mean_squared_error(y_test, y_pred)\n",
    "print(f\"Mean Squared Error: {mse}\")\n",
    "\n",
    "# Calculate the Root Mean Squared Error\n",
    "rmse = np.sqrt(mse)\n",
    "print(f\"Root Mean Squared Error: {rmse}\")\n",
    "\n",
    "# Calculate the R-squared Score\n",
    "r2 = r2_score(y_test, y_pred)\n",
    "print(f\"R-squared Score: {r2}\")"
   ]
  },
  {
   "cell_type": "markdown",
   "metadata": {},
   "source": [
    "Model 3: `Random Forest with GridSearch CV Optimization`"
   ]
  },
  {
   "cell_type": "code",
   "execution_count": 7,
   "metadata": {},
   "outputs": [
    {
     "name": "stdout",
     "output_type": "stream",
     "text": [
      "Best Hyperparameters: {'n_estimators': 100, 'min_samples_split': 2, 'min_samples_leaf': 1, 'max_depth': None}\n",
      "acc: 0.9293984218782295\n",
      "Best Model Mean Squared Error: 106213389.49489917\n",
      "Best Model Root Mean Squared Error: 10305.988040692613\n",
      "Best Model R-squared Score: 0.9293984218782295\n"
     ]
    },
    {
     "name": "stderr",
     "output_type": "stream",
     "text": [
      "c:\\Users\\kukud\\miniconda3\\envs\\DsOne\\Lib\\site-packages\\sklearn\\base.py:464: UserWarning: X does not have valid feature names, but RandomForestRegressor was fitted with feature names\n",
      "  warnings.warn(\n"
     ]
    }
   ],
   "source": [
    "from sklearn.model_selection import GridSearchCV\n",
    "np.random.seed(42)\n",
    "# Create a Random Forest Regressor model\n",
    "model = RandomForestRegressor(random_state=0)\n",
    "\n",
    "# Define the hyperparameter grid\n",
    "param_grid = {\n",
    "    'n_estimators': [10, 50, 100, 200],\n",
    "    'max_depth': [None, 10, 20, 30],\n",
    "    'min_samples_split': [2, 5, 10],\n",
    "    'min_samples_leaf': [1, 2, 4]\n",
    "}\n",
    "\n",
    "# Create the GridSearchCV object\n",
    "grid_search = GridSearchCV(model, param_grid, cv=5, scoring='neg_mean_squared_error', n_jobs=-1)\n",
    "\n",
    "# Fit the grid search to the data\n",
    "grid_search.fit(X_train, y_train)\n",
    "\n",
    "# Get the best parameters from the grid search\n",
    "best_params = grid_search.best_params_\n",
    "print(\"Best Hyperparameters:\", best_params)\n",
    "\n",
    "# Get the best model from the grid search\n",
    "best_model = grid_search.best_estimator_\n",
    "\n",
    "# Predict on the test set using the best model\n",
    "y_pred_best = best_model.predict(X_test)\n",
    "\n",
    "acc = best_model.score(X_test.values,y_test.values)\n",
    "print(\"acc:\",acc)\n",
    "\n",
    "# Calculate the mean squared error using the best model\n",
    "mse_best = mean_squared_error(y_test, y_pred_best)\n",
    "print(f\"Best Model Mean Squared Error: {mse_best}\")\n",
    "\n",
    "# Calculate the Root Mean Squared Error using the best model\n",
    "rmse_best = np.sqrt(mse_best)\n",
    "print(f\"Best Model Root Mean Squared Error: {rmse_best}\")\n",
    "\n",
    "# Calculate the R-squared Score using the best model\n",
    "r2_best = r2_score(y_test, y_pred_best)\n",
    "print(f\"Best Model R-squared Score: {r2_best}\")\n"
   ]
  },
  {
   "cell_type": "code",
   "execution_count": 10,
   "metadata": {},
   "outputs": [
    {
     "name": "stderr",
     "output_type": "stream",
     "text": [
      "c:\\Users\\kukud\\miniconda3\\envs\\DsOne\\Lib\\site-packages\\seaborn\\_oldcore.py:1498: FutureWarning: is_categorical_dtype is deprecated and will be removed in a future version. Use isinstance(dtype, CategoricalDtype) instead\n",
      "  if pd.api.types.is_categorical_dtype(vector):\n",
      "c:\\Users\\kukud\\miniconda3\\envs\\DsOne\\Lib\\site-packages\\seaborn\\_oldcore.py:1498: FutureWarning: is_categorical_dtype is deprecated and will be removed in a future version. Use isinstance(dtype, CategoricalDtype) instead\n",
      "  if pd.api.types.is_categorical_dtype(vector):\n",
      "c:\\Users\\kukud\\miniconda3\\envs\\DsOne\\Lib\\site-packages\\seaborn\\_oldcore.py:1498: FutureWarning: is_categorical_dtype is deprecated and will be removed in a future version. Use isinstance(dtype, CategoricalDtype) instead\n",
      "  if pd.api.types.is_categorical_dtype(vector):\n"
     ]
    },
    {
     "data": {
      "image/png": "[encoded data removed]",
      "text/plain": [
       "<Figure size 1000x700 with 1 Axes>"
      ]
     },
     "metadata": {},
     "output_type": "display_data"
    }
   ],
   "source": [
    "import seaborn as sns\n",
    "import matplotlib.pyplot as plt\n",
    "\n",
    "# Sample data\n",
    "R2_score = ['R2_score-RandomForest', 'R2_score-RandomForest-GridOptimized', 'R2-LinearRegression']\n",
    "values = [r2, r2_best, r2_2]\n",
    "\n",
    "# Create a pandas DataFrame\n",
    "data = {'R2_score': R2_score, 'Value': values}\n",
    "df = pd.DataFrame(data)\n",
    "\n",
    "# Plotting with Seaborn\n",
    "plt.figure(figsize=(10, 7))\n",
    "ax = sns.barplot(x='R2_score', y='Value', data=df, palette='viridis')\n",
    "# Display values inside the bars\n",
    "for p in ax.patches:\n",
    "    ax.annotate(f'{p.get_height():.2f}', (p.get_x() + p.get_width() / 2., p.get_height()),\n",
    "                ha='center', va='center', xytext=(0, 10), textcoords='offset points')\n",
    "plt.title('Graph depicting the R2 score of models')\n",
    "plt.show()\n",
    "\n",
    "\n"
   ]
  },
  {
   "cell_type": "markdown",
   "metadata": {},
   "source": [
    "`Root Mean Squared Errors: `\n",
    "\n",
    "**Random Forest RMSE : 10419.389824483214**\\\n",
    "**Random Forest (GridSearch Optimized) RMSE : 10305.988040692613**\\\n",
    "**Linear Regression RMSE : 20015.345237751026**"
   ]
  },
  {
   "cell_type": "markdown",
   "metadata": {},
   "source": [
    "##### From the models we used we can see that `Random Forest Regressor` with grid search optimisation gives us better results with a better R2 score and lower RMSE error compared to the Linear Regression. So, we finally chose Random Forest Regression as our choice of model for this project."
   ]
  },
  {
   "cell_type": "markdown",
   "metadata": {},
   "source": [
    "Exporting our model using `Pickle`"
   ]
  },
  {
   "cell_type": "code",
   "execution_count": null,
   "metadata": {},
   "outputs": [],
   "source": [
    "import pickle\n",
    "\n",
    "# Saving the model to a file\n",
    "with open('salary_model.pkl', 'wb') as file:\n",
    "    pickle.dump(best_model, file)"
   ]
  }
 ],
 "metadata": {
  "kernelspec": {
   "display_name": "DsOne",
   "language": "python",
   "name": "python3"
  },
  "language_info": {
   "codemirror_mode": {
    "name": "ipython",
    "version": 3
   },
   "file_extension": ".py",
   "mimetype": "text/x-python",
   "name": "python",
   "nbconvert_exporter": "python",
   "pygments_lexer": "ipython3",
   "version": "3.12.0"
  }
 },
 "nbformat": 4,
 "nbformat_minor": 2
}
